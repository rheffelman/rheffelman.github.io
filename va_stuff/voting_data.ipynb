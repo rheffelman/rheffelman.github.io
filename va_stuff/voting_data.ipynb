{
 "cells": [
  {
   "cell_type": "code",
   "execution_count": 29,
   "metadata": {},
   "outputs": [],
   "source": [
    "import itertools\n",
    "\n",
    "# Data extracted from the table (manually input as an example)\n",
    "data = {\n",
    "    \"Joe Biden\": [311, 166, 117, 149, 189, 52],\n",
    "    \"Pete Buttigieg\": [73, 103, 233, 241, 255, 79],\n",
    "    \"Kamala Harris\": [96, 189, 213, 252, 155, 79],\n",
    "    \"Bernie Sanders\": [190, 224, 165, 129, 227, 49],\n",
    "    \"Elizabeth Warren\": [305, 273, 189, 119, 44, 54],\n",
    "}\n",
    "\n",
    "def expand_data(data):\n",
    "    ballots = []\n",
    "    \n",
    "    # Get all candidates\n",
    "    candidates = list(data.keys())\n",
    "    # Get all rank frequencies for each candidate\n",
    "    ranks = [data[candidate] for candidate in candidates]\n",
    "    # Number of ranks\n",
    "    num_ranks = len(ranks[0])\n",
    "    \n",
    "    # Iterate through all possible permutations of candidates\n",
    "    permutations = list(itertools.permutations(candidates))\n",
    "    \n",
    "    for permutation in permutations:\n",
    "        # Generate ballots based on the rank frequencies\n",
    "        for rank_index in range(num_ranks):\n",
    "            count = min(data[permutation[rank_index]][rank_index], data)\n"
   ]
  },
  {
   "cell_type": "markdown",
   "metadata": {},
   "source": []
  }
 ],
 "metadata": {
  "kernelspec": {
   "display_name": "Python 3",
   "language": "python",
   "name": "python3"
  },
  "language_info": {
   "codemirror_mode": {
    "name": "ipython",
    "version": 3
   },
   "file_extension": ".py",
   "mimetype": "text/x-python",
   "name": "python",
   "nbconvert_exporter": "python",
   "pygments_lexer": "ipython3",
   "version": "3.12.8"
  }
 },
 "nbformat": 4,
 "nbformat_minor": 2
}
